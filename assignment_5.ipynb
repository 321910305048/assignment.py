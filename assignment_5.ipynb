{
  "nbformat": 4,
  "nbformat_minor": 0,
  "metadata": {
    "colab": {
      "name": "assignment 6.ipynb",
      "provenance": [],
      "authorship_tag": "ABX9TyNvhYJ5I1pTrUuhVznBXEzX",
      "include_colab_link": true
    },
    "kernelspec": {
      "name": "python3",
      "display_name": "Python 3"
    }
  },
  "cells": [
    {
      "cell_type": "markdown",
      "metadata": {
        "id": "view-in-github",
        "colab_type": "text"
      },
      "source": [
        "<a href=\"https://colab.research.google.com/github/321910305048/assignment.py/blob/master/assignment_6.ipynb\" target=\"_parent\"><img src=\"https://colab.research.google.com/assets/colab-badge.svg\" alt=\"Open In Colab\"/></a>"
      ]
    },
    {
      "cell_type": "markdown",
      "metadata": {
        "id": "LSREv_2lshFr",
        "colab_type": "text"
      },
      "source": [
        " Convert Binary to Decimal"
      ]
    },
    {
      "cell_type": "code",
      "metadata": {
        "id": "PxPZpZbosly_",
        "colab_type": "code",
        "colab": {
          "base_uri": "https://localhost:8080/",
          "height": 51
        },
        "outputId": "6b21b7d0-1393-4c17-e6f0-f910c14ca39b"
      },
      "source": [
        " \n",
        "num=int(input(\"Enter the binary number: \"))\n",
        "decimal=0\n",
        "base=1\n",
        "temp=num\n",
        " \n",
        "while temp!=0:\n",
        "    last=temp%10\n",
        "    temp=int(temp/10)\n",
        "    decimal+=last*base\n",
        "    base=base*2\n",
        "print(\"The decimal form is\",decimal)"
      ],
      "execution_count": 4,
      "outputs": [
        {
          "output_type": "stream",
          "text": [
            "Enter the binary number: 14389\n",
            "The decimal form is 85\n"
          ],
          "name": "stdout"
        }
      ]
    },
    {
      "cell_type": "markdown",
      "metadata": {
        "id": "neyRX7AVtBrA",
        "colab_type": "text"
      },
      "source": [
        " Generate first n Fibonacci series."
      ]
    },
    {
      "cell_type": "code",
      "metadata": {
        "id": "-rOafcbUtHBD",
        "colab_type": "code",
        "colab": {
          "base_uri": "https://localhost:8080/",
          "height": 190
        },
        "outputId": "cab07959-91e1-439f-8ae2-7d655eb61bd9"
      },
      "source": [
        " n= int(input(\"Enter the value of n: \"))\n",
        "n1=0\n",
        "n2 =1 \n",
        "count=0\n",
        "print(\"Fibonacci Sequence until\",n,\"terms is: \")\n",
        "while count<n:\n",
        "    print(n1)\n",
        "    n3=n1+n2\n",
        "    n1=n2\n",
        "    n2=n3\n",
        "    count+=1"
      ],
      "execution_count": 5,
      "outputs": [
        {
          "output_type": "stream",
          "text": [
            "Enter the value of n: 7\n",
            "Fibonacci Sequence until 7 terms is: \n",
            "0\n",
            "1\n",
            "1\n",
            "2\n",
            "3\n",
            "5\n",
            "8\n"
          ],
          "name": "stdout"
        }
      ]
    },
    {
      "cell_type": "markdown",
      "metadata": {
        "id": "999kKjbJtO1q",
        "colab_type": "text"
      },
      "source": [
        " \n",
        "Display multiplication table of k. Take k value from user."
      ]
    },
    {
      "cell_type": "code",
      "metadata": {
        "id": "1YHC6Mfstaxq",
        "colab_type": "code",
        "colab": {
          "base_uri": "https://localhost:8080/",
          "height": 241
        },
        "outputId": "917fe148-b1ad-4309-80c1-4361664147a7"
      },
      "source": [
        " \n",
        "k=int(input(\"Enter a number to print the multiplication table: \"))\n",
        "print(\"Multiplication table:\")\n",
        "for i in range(1,11):\n",
        "    print(k,\"*\",i,\"=\",k*i)"
      ],
      "execution_count": 6,
      "outputs": [
        {
          "output_type": "stream",
          "text": [
            "Enter a number to print the multiplication table: 48\n",
            "Multiplication table:\n",
            "48 * 1 = 48\n",
            "48 * 2 = 96\n",
            "48 * 3 = 144\n",
            "48 * 4 = 192\n",
            "48 * 5 = 240\n",
            "48 * 6 = 288\n",
            "48 * 7 = 336\n",
            "48 * 8 = 384\n",
            "48 * 9 = 432\n",
            "48 * 10 = 480\n"
          ],
          "name": "stdout"
        }
      ]
    },
    {
      "cell_type": "markdown",
      "metadata": {
        "id": "AWOt5i_Ntj8O",
        "colab_type": "text"
      },
      "source": [
        " Take 10 integers from keyboard using loop and print their average value on the screen Print the following patterns using loop:\n",
        ".**"
      ]
    },
    {
      "cell_type": "code",
      "metadata": {
        "id": "VGB6lWt8t67v",
        "colab_type": "code",
        "colab": {
          "base_uri": "https://localhost:8080/",
          "height": 187
        },
        "outputId": "85332dd9-540a-431f-f1bc-58b310d0cd82"
      },
      "source": [
        " \n",
        "for num in range(1,11):\n",
        "    num= int(input(\"Enter a value: \"))"
      ],
      "execution_count": 7,
      "outputs": [
        {
          "output_type": "stream",
          "text": [
            "Enter a value: 12\n",
            "Enter a value: 2\n",
            "Enter a value: 4\n",
            "Enter a value: 5\n",
            "Enter a value: 7\n",
            "Enter a value: 3\n",
            "Enter a value: 21\n",
            "Enter a value: 9\n",
            "Enter a value: 5\n",
            "Enter a value: 2\n"
          ],
          "name": "stdout"
        }
      ]
    },
    {
      "cell_type": "code",
      "metadata": {
        "id": "RwKP_kmeudBP",
        "colab_type": "code",
        "colab": {
          "base_uri": "https://localhost:8080/",
          "height": 85
        },
        "outputId": "fe9bf163-9d50-4c05-81f8-863ba27d482b"
      },
      "source": [
        " \n",
        "rows = 4\n",
        "for row in range(1, rows+1):\n",
        "    for column in range(1, row + 1):\n",
        "        print(\"*\", end=\"\")\n",
        "    print(\"\")"
      ],
      "execution_count": 8,
      "outputs": [
        {
          "output_type": "stream",
          "text": [
            "*\n",
            "**\n",
            "***\n",
            "****\n"
          ],
          "name": "stdout"
        }
      ]
    },
    {
      "cell_type": "markdown",
      "metadata": {
        "id": "JRyBjeTuvCKE",
        "colab_type": "text"
      },
      "source": [
        " \n",
        "Program to find the GCD of two numbers."
      ]
    },
    {
      "cell_type": "code",
      "metadata": {
        "id": "2o3d-qGTvH-Q",
        "colab_type": "code",
        "colab": {
          "base_uri": "https://localhost:8080/",
          "height": 68
        },
        "outputId": "0461ce12-dcf5-4bc2-ca01-e8123ad8899b"
      },
      "source": [
        " \n",
        "import math\n",
        "n1= int(input(\"Enter First number:\"))\n",
        "n2= int(input(\"Enter second number:\"))\n",
        "print(math.gcd(n1,n2),\"is the GCD of\",n1,\"and\",n2)"
      ],
      "execution_count": 9,
      "outputs": [
        {
          "output_type": "stream",
          "text": [
            "Enter First number:12\n",
            "Enter second number:20\n",
            "4 is the GCD of 12 and 20\n"
          ],
          "name": "stdout"
        }
      ]
    },
    {
      "cell_type": "markdown",
      "metadata": {
        "id": "OMYvNZ0kvgVM",
        "colab_type": "text"
      },
      "source": [
        "Program that accepts a word from the user and reverses it"
      ]
    },
    {
      "cell_type": "code",
      "metadata": {
        "id": "BU_DfirrxByq",
        "colab_type": "code",
        "colab": {
          "base_uri": "https://localhost:8080/",
          "height": 51
        },
        "outputId": "525558a0-7d74-4738-fb66-0029f1b5351e"
      },
      "source": [
        " \n",
        "word=input(\"Enter a word: \")\n",
        "rev= word[::-1]\n",
        "print(\"Reverse of\",word,\"is\",rev)"
      ],
      "execution_count": 14,
      "outputs": [
        {
          "output_type": "stream",
          "text": [
            "Enter a word: mom\n",
            "Reverse of mom is mom\n"
          ],
          "name": "stdout"
        }
      ]
    },
    {
      "cell_type": "markdown",
      "metadata": {
        "id": "T8bXH8gzxQCn",
        "colab_type": "text"
      },
      "source": [
        " \n",
        "Program to count the number of even and odd numbers from a series of numbers."
      ]
    },
    {
      "cell_type": "code",
      "metadata": {
        "id": "wbL8mRQWxjTW",
        "colab_type": "code",
        "colab": {
          "base_uri": "https://localhost:8080/",
          "height": 85
        },
        "outputId": "3e55ee8e-ce10-4828-e8a0-fdcad1ff38ad"
      },
      "source": [
        " \n",
        "start=int(input(\"Enter the starting number: \"))\n",
        "end=int(input(\"Enter the ending number:\"))\n",
        "count_even=0\n",
        "count_odd=0\n",
        "for num in range(start,end+1):\n",
        "    if num%2==0:\n",
        "        count_even+=1\n",
        "    else:\n",
        "        count_odd+=1\n",
        "print(\"The number of even numbers:\",count_even)\n",
        "print(\"The number of odd numbers\",count_odd)"
      ],
      "execution_count": 15,
      "outputs": [
        {
          "output_type": "stream",
          "text": [
            "Enter the starting number: 2\n",
            "Enter the ending number:50\n",
            "The number of even numbers: 25\n",
            "The number of odd numbers 24\n"
          ],
          "name": "stdout"
        }
      ]
    },
    {
      "cell_type": "markdown",
      "metadata": {
        "id": "qPoJDWP6x8fa",
        "colab_type": "text"
      },
      "source": [
        "Program that prints all numbers from 0 to 6 except 3 and 6."
      ]
    },
    {
      "cell_type": "code",
      "metadata": {
        "id": "P2h8mQh0yTij",
        "colab_type": "code",
        "colab": {
          "base_uri": "https://localhost:8080/",
          "height": 102
        },
        "outputId": "3ade3589-48a2-487c-e6df-1d8a4d4ce6de"
      },
      "source": [
        " for num in range(0,6):\n",
        "    if num==3:\n",
        "       continue\n",
        "    print(num)"
      ],
      "execution_count": 17,
      "outputs": [
        {
          "output_type": "stream",
          "text": [
            "0\n",
            "1\n",
            "2\n",
            "4\n",
            "5\n"
          ],
          "name": "stdout"
        }
      ]
    }
  ]
}
