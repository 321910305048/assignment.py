{
  "nbformat": 4,
  "nbformat_minor": 0,
  "metadata": {
    "colab": {
      "name": "assignment 7.ipynb",
      "provenance": [],
      "authorship_tag": "ABX9TyOo/IKikNl1dnXud1Z7HdJF",
      "include_colab_link": true
    },
    "kernelspec": {
      "name": "python3",
      "display_name": "Python 3"
    }
  },
  "cells": [
    {
      "cell_type": "markdown",
      "metadata": {
        "id": "view-in-github",
        "colab_type": "text"
      },
      "source": [
        "<a href=\"https://colab.research.google.com/github/321910305048/assignment.py/blob/master/assignment_7.ipynb\" target=\"_parent\"><img src=\"https://colab.research.google.com/assets/colab-badge.svg\" alt=\"Open In Colab\"/></a>"
      ]
    },
    {
      "cell_type": "markdown",
      "metadata": {
        "id": "qweZfKMezYzR",
        "colab_type": "text"
      },
      "source": [
        " Write a python program to find the square root"
      ]
    },
    {
      "cell_type": "code",
      "metadata": {
        "id": "cM3OSJFkzlmi",
        "colab_type": "code",
        "colab": {
          "base_uri": "https://localhost:8080/",
          "height": 51
        },
        "outputId": "81a19ec8-0d5a-4974-b2b1-932ad9392ea3"
      },
      "source": [
        " \n",
        "n=int(input(\"Enter the number\"))\n",
        "sqrt=(n**1/2)\n",
        "print(\"The square of root {} is:{} \".format(n,sqrt))"
      ],
      "execution_count": 1,
      "outputs": [
        {
          "output_type": "stream",
          "text": [
            "Enter the number48\n",
            "The square of root 48 is:24.0 \n"
          ],
          "name": "stdout"
        }
      ]
    },
    {
      "cell_type": "markdown",
      "metadata": {
        "id": "ki8RDVtFztsG",
        "colab_type": "text"
      },
      "source": [
        " Write a python program to check if a number is Positive,Negative or 0"
      ]
    },
    {
      "cell_type": "code",
      "metadata": {
        "id": "xDj6z1bFz0eA",
        "colab_type": "code",
        "colab": {
          "base_uri": "https://localhost:8080/",
          "height": 51
        },
        "outputId": "0e334647-b76b-40e6-aac9-bd4fc12c0dd0"
      },
      "source": [
        " n=int(input(\"Enter the number\"))\n",
        "if n>0:\n",
        "  print(\"Number is Positive\")\n",
        "elif n<0:\n",
        "  print(\"Number is Negative\")\n",
        "else:\n",
        "  print(\"Number is Zero\")"
      ],
      "execution_count": 3,
      "outputs": [
        {
          "output_type": "stream",
          "text": [
            "Enter the number0\n",
            "Number is Zero\n"
          ],
          "name": "stdout"
        }
      ]
    },
    {
      "cell_type": "markdown",
      "metadata": {
        "id": "DF7SUqn8z-ZD",
        "colab_type": "text"
      },
      "source": [
        " Write a python program to check leap year"
      ]
    },
    {
      "cell_type": "code",
      "metadata": {
        "id": "T6EI7cR30KoF",
        "colab_type": "code",
        "colab": {
          "base_uri": "https://localhost:8080/",
          "height": 51
        },
        "outputId": "8b75f891-8e03-42bd-81d8-0d5c264da047"
      },
      "source": [
        " year = int(input(\"Enter a year: \"))  \n",
        "if (year % 4) == 0:  \n",
        "   if (year % 100) == 0:  \n",
        "       if (year % 400) == 0:  \n",
        "           print(\"{} is a leap year\".format(year))  \n",
        "       else:  \n",
        "           print(\"{} is not a leap year\".format(year))  \n",
        "   else:  \n",
        "       print(\"{} is a leap year\".format(year))  \n",
        "else:  \n",
        "   print(\"{} is not a leap year\".format(year))"
      ],
      "execution_count": 7,
      "outputs": [
        {
          "output_type": "stream",
          "text": [
            "Enter a year: 1951\n",
            "1951 is not a leap year\n"
          ],
          "name": "stdout"
        }
      ]
    },
    {
      "cell_type": "markdown",
      "metadata": {
        "id": "Az8bnXnV0f-A",
        "colab_type": "text"
      },
      "source": [
        "Write a python program to print fibonacci sequence"
      ]
    },
    {
      "cell_type": "code",
      "metadata": {
        "id": "lPcFix8G0uNa",
        "colab_type": "code",
        "colab": {
          "base_uri": "https://localhost:8080/",
          "height": 255
        },
        "outputId": "94789828-9783-4640-eb92-0f49a2f8248d"
      },
      "source": [
        " n=int(input(\"Enter the number\"))\n",
        "a=0\n",
        "b=1\n",
        "if n<=0:\n",
        "   print(\"Enter the positive integer\")\n",
        "elif n==1:\n",
        "   print(\"Fibonacci sequence upto\",n)\n",
        "   print(a)\n",
        "else:\n",
        "  print(\"The fibonacci sequence: \")\n",
        "  for i in range(0,n):\n",
        "   print(a) \n",
        "   c=a+b\n",
        "   a=b\n",
        "   b=c"
      ],
      "execution_count": 8,
      "outputs": [
        {
          "output_type": "stream",
          "text": [
            "Enter the number12\n",
            "The fibonacci sequence: \n",
            "0\n",
            "1\n",
            "1\n",
            "2\n",
            "3\n",
            "5\n",
            "8\n",
            "13\n",
            "21\n",
            "34\n",
            "55\n",
            "89\n"
          ],
          "name": "stdout"
        }
      ]
    },
    {
      "cell_type": "markdown",
      "metadata": {
        "id": "jLsEYy7b015E",
        "colab_type": "text"
      },
      "source": [
        " \n",
        "Write a python program to check armstrong number"
      ]
    },
    {
      "cell_type": "code",
      "metadata": {
        "id": "Yu6sQxdT1FWB",
        "colab_type": "code",
        "colab": {
          "base_uri": "https://localhost:8080/",
          "height": 51
        },
        "outputId": "ae22437c-13b9-4902-d619-db69693c9f6e"
      },
      "source": [
        " \n",
        "num = int(input(\"Enter a number: \"))\n",
        "sum = 0\n",
        "temp = num\n",
        "while temp > 0:\n",
        "   digit = temp % 10\n",
        "   sum += digit ** 3\n",
        "   temp //= 10\n",
        "if num == sum:\n",
        "   print(num,\"is an Armstrong number\")\n",
        "else:\n",
        "   print(num,\"is not an Armstrong number\")"
      ],
      "execution_count": 11,
      "outputs": [
        {
          "output_type": "stream",
          "text": [
            "Enter a number: 2002\n",
            "2002 is not an Armstrong number\n"
          ],
          "name": "stdout"
        }
      ]
    },
    {
      "cell_type": "markdown",
      "metadata": {
        "id": "ei4HiteH2Ei8",
        "colab_type": "text"
      },
      "source": [
        " \n",
        "Write a python program to find armstong number in an interval"
      ]
    },
    {
      "cell_type": "code",
      "metadata": {
        "id": "AeX-_Ah22Qpp",
        "colab_type": "code",
        "colab": {
          "base_uri": "https://localhost:8080/",
          "height": 136
        },
        "outputId": "b8c3ec56-e674-4bac-ebfc-baed39bdacfd"
      },
      "source": [
        "lower=int(input(\"Enter the lower limit number\"))\n",
        "upper=int(input(\"Enter the upper limit number\"))\n",
        "for num in range(lower,upper+1):\n",
        "  order=len(str(num))\n",
        "  sum=0\n",
        "  temp=num\n",
        "  while temp>0:\n",
        "    digit=temp%10\n",
        "    sum+=digit**order\n",
        "    temp//=10 \n",
        "  if num==sum:\n",
        "    print(num)"
      ],
      "execution_count": 21,
      "outputs": [
        {
          "output_type": "stream",
          "text": [
            "Enter the lower limit number5\n",
            "Enter the upper limit number10\n",
            "5\n",
            "6\n",
            "7\n",
            "8\n",
            "9\n"
          ],
          "name": "stdout"
        }
      ]
    }
  ]
}