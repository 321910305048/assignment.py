{
  "nbformat": 4,
  "nbformat_minor": 0,
  "metadata": {
    "colab": {
      "name": "m-2assignment2. Py",
      "provenance": [],
      "authorship_tag": "ABX9TyNc5eXiR+G/s1kH0gpca+3D",
      "include_colab_link": true
    },
    "kernelspec": {
      "name": "python3",
      "display_name": "Python 3"
    }
  },
  "cells": [
    {
      "cell_type": "markdown",
      "metadata": {
        "id": "view-in-github",
        "colab_type": "text"
      },
      "source": [
        "<a href=\"https://colab.research.google.com/github/321910305048/assignment.py/blob/master/m_2assignment2_Py.ipynb\" target=\"_parent\"><img src=\"https://colab.research.google.com/assets/colab-badge.svg\" alt=\"Open In Colab\"/></a>"
      ]
    },
    {
      "cell_type": "markdown",
      "metadata": {
        "id": "qC1j4DFlp6Tc",
        "colab_type": "text"
      },
      "source": [
        " Take two inputs from user and check whether they are equal or not."
      ]
    },
    {
      "cell_type": "code",
      "metadata": {
        "id": "zAyrhj9Xp72e",
        "colab_type": "code",
        "colab": {
          "base_uri": "https://localhost:8080/",
          "height": 68
        },
        "outputId": "9aa690d3-651f-4480-8156-16a20ebf1445"
      },
      "source": [
        " x=int(input('Enter First Number'))\n",
        "y=int(input('Enter Second Number'))\n",
        "if x==y:\n",
        "  print(\"Theyre Same\")\n",
        "else:\n",
        "  print(\"Theyre Not Same\")"
      ],
      "execution_count": 1,
      "outputs": [
        {
          "output_type": "stream",
          "text": [
            "Enter First Number12\n",
            "Enter Second Number24\n",
            "Theyre Not Same\n"
          ],
          "name": "stdout"
        }
      ]
    },
    {
      "cell_type": "markdown",
      "metadata": {
        "id": "JwBT2CMCqH8L",
        "colab_type": "text"
      },
      "source": [
        " Take 3 inputs from user and check : all are equal any of two are equal\n",
        " ( use and or )"
      ]
    },
    {
      "cell_type": "code",
      "metadata": {
        "id": "rw5ppNlOqPGs",
        "colab_type": "code",
        "colab": {
          "base_uri": "https://localhost:8080/",
          "height": 102
        },
        "outputId": "1259792a-ebbf-40ff-8cc8-33cef3e5ed12"
      },
      "source": [
        " x=int(input('Enter the First Number'))\n",
        "y=int(input('Enter the Second Number'))\n",
        "z=int(input('Enter the Third number'))\n",
        "all= x==y and y==z and z==x\n",
        "print(\"All are equal:\",all)\n",
        "anytwo= x==y or y==z or z==x\n",
        "print(\"Any of three are equal:\",anytwo)"
      ],
      "execution_count": 2,
      "outputs": [
        {
          "output_type": "stream",
          "text": [
            "Enter the First Number12\n",
            "Enter the Second Number12\n",
            "Enter the Third number12\n",
            "All are equal: True\n",
            "Any of three are equal: True\n"
          ],
          "name": "stdout"
        }
      ]
    },
    {
      "cell_type": "markdown",
      "metadata": {
        "id": "MDoTPv8Aqcey",
        "colab_type": "text"
      },
      "source": [
        " Take two number and check whether the sum is greater than 5, less than 5 or equal to 5.In [15]:"
      ]
    },
    {
      "cell_type": "code",
      "metadata": {
        "id": "LzJh7jLlqhaW",
        "colab_type": "code",
        "colab": {
          "base_uri": "https://localhost:8080/",
          "height": 68
        },
        "outputId": "0c96be7c-b25c-4732-8854-31d813eb1047"
      },
      "source": [
        "x=int(input('Enter First Number'))\n",
        "y=int(input('Enter Second Number'))\n",
        "z=x+y\n",
        "if z>5:\n",
        " print(\"Sum Is Greater Than 5\")\n",
        "elif z<5:\n",
        "  print(\"Sum Is less than 5\")\n",
        "else:\n",
        "  print(\"Sum Is Equal To 5\")"
      ],
      "execution_count": 4,
      "outputs": [
        {
          "output_type": "stream",
          "text": [
            "Enter First Number2\n",
            "Enter Second Number3\n",
            "Sum Is Equal To 5\n"
          ],
          "name": "stdout"
        }
      ]
    },
    {
      "cell_type": "markdown",
      "metadata": {
        "id": "Mr6HLnf8qs41",
        "colab_type": "text"
      },
      "source": [
        " Suppose passing marks of a subject is 35. Take input of marks from user and check whether it is greater than passing marks or not."
      ]
    },
    {
      "cell_type": "code",
      "metadata": {
        "id": "5XMSd7HNqyou",
        "colab_type": "code",
        "colab": {
          "base_uri": "https://localhost:8080/",
          "height": 51
        },
        "outputId": "9d03822e-176a-496a-c3f8-fe5eb78caff6"
      },
      "source": [
        " m=int(input('Enter Youre Marks'))\n",
        "if m>35:\n",
        "  print(\"You have passed\")\n",
        "else:\n",
        "    print(\"you have failed\")"
      ],
      "execution_count": 5,
      "outputs": [
        {
          "output_type": "stream",
          "text": [
            "Enter Youre Marks38\n",
            "You have passed\n"
          ],
          "name": "stdout"
        }
      ]
    },
    {
      "cell_type": "markdown",
      "metadata": {
        "id": "bWMJIVEPq5o-",
        "colab_type": "text"
      },
      "source": [
        " Write a Python function to find the Max of three numbers"
      ]
    },
    {
      "cell_type": "code",
      "metadata": {
        "id": "roEDCJ0VrBHT",
        "colab_type": "code",
        "colab": {
          "base_uri": "https://localhost:8080/",
          "height": 85
        },
        "outputId": "7654213e-7ac4-4053-9c5a-71065fe08987"
      },
      "source": [
        " x=int(input('Enter First Number'))\n",
        "y=int(input('Enter Second Number'))\n",
        "z=int(input('Enter Third Number'))\n",
        "if x>y:\n",
        "  if x>z:\n",
        "    print(\"X is Greatest\")\n",
        "  else:\n",
        "    print(\"Z is Greatest\")\n",
        "elif y>x:\n",
        "  if y>z:\n",
        "    print(\"Y is Greatest\")\n",
        "  else:\n",
        "    print(\"Z is Greatest\")"
      ],
      "execution_count": 6,
      "outputs": [
        {
          "output_type": "stream",
          "text": [
            "Enter First Number22\n",
            "Enter Second Number20\n",
            "Enter Third Number12\n",
            "X is Greatest\n"
          ],
          "name": "stdout"
        }
      ]
    }
  ]
}