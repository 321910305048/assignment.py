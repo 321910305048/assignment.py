{
  "nbformat": 4,
  "nbformat_minor": 0,
  "metadata": {
    "colab": {
      "name": "assignment_10.ipynb",
      "provenance": [],
      "authorship_tag": "ABX9TyM5bGl+n/wjSjHxSc6QylEl",
      "include_colab_link": true
    },
    "kernelspec": {
      "name": "python3",
      "display_name": "Python 3"
    }
  },
  "cells": [
    {
      "cell_type": "markdown",
      "metadata": {
        "id": "view-in-github",
        "colab_type": "text"
      },
      "source": [
        "<a href=\"https://colab.research.google.com/github/321910305048/assignment.py/blob/master/assignment_10.ipynb\" target=\"_parent\"><img src=\"https://colab.research.google.com/assets/colab-badge.svg\" alt=\"Open In Colab\"/></a>"
      ]
    },
    {
      "cell_type": "markdown",
      "metadata": {
        "id": "FcKqEX0BLLc4",
        "colab_type": "text"
      },
      "source": [
        " 1.Program to get the largest and smallest number from a list."
      ]
    },
    {
      "cell_type": "code",
      "metadata": {
        "id": "MriRgCuLLO06",
        "colab_type": "code",
        "colab": {
          "base_uri": "https://localhost:8080/",
          "height": 88
        },
        "outputId": "d34c723d-63ec-489c-bb35-2b16b63cd315"
      },
      "source": [
        " list = [10,40,60,100,50,70]\n",
        "print(\"The given list is:\",list)\n",
        "print(\"Largest number in the list is\",max(list))\n",
        "print(\"Smallest number in the list:\",min(list))"
      ],
      "execution_count": 1,
      "outputs": [
        {
          "output_type": "stream",
          "text": [
            "The given list is: [10, 40, 60, 100, 50, 70]\n",
            "Largest number in the list is 100\n",
            "Smallest number in the list: 10\n"
          ],
          "name": "stdout"
        }
      ]
    },
    {
      "cell_type": "markdown",
      "metadata": {
        "id": "visP6hZGLT4b",
        "colab_type": "text"
      },
      "source": [
        " 2.Program to remove duplicate elements from a list."
      ]
    },
    {
      "cell_type": "code",
      "metadata": {
        "id": "49vn99mILZHl",
        "colab_type": "code",
        "colab": {
          "base_uri": "https://localhost:8080/",
          "height": 34
        },
        "outputId": "350f6958-b5a3-48d8-a685-ad8e9da0f639"
      },
      "source": [
        " list1 = [1,2,2,3,3,3,4,4,4,4,5,5,5]\n",
        "list2 = []\n",
        " \n",
        "for item in list1:\n",
        "    if item not in list2:\n",
        "        list2.append(item)\n",
        "print(\"New list:\",list2)"
      ],
      "execution_count": 2,
      "outputs": [
        {
          "output_type": "stream",
          "text": [
            "New list: [1, 2, 3, 4, 5]\n"
          ],
          "name": "stdout"
        }
      ]
    },
    {
      "cell_type": "markdown",
      "metadata": {
        "id": "1b9ntJ_ILgpB",
        "colab_type": "text"
      },
      "source": [
        " 3.Program to check if the list is empty or not."
      ]
    },
    {
      "cell_type": "code",
      "metadata": {
        "id": "7t_1k-tjLh0W",
        "colab_type": "code",
        "colab": {
          "base_uri": "https://localhost:8080/",
          "height": 51
        },
        "outputId": "576faf14-3649-4911-9478-74ed42d65bb7"
      },
      "source": [
        " list1 = [1,2,3,4,5,6]\n",
        "list2 = []\n",
        "if list1 == []:\n",
        "    print(\"True\")\n",
        "else:\n",
        "    print(\"False\")\n",
        "    \n",
        "if list2!=[]:\n",
        "    print(\"False\")\n",
        "else:\n",
        "    print(\"True\")"
      ],
      "execution_count": 3,
      "outputs": [
        {
          "output_type": "stream",
          "text": [
            "False\n",
            "True\n"
          ],
          "name": "stdout"
        }
      ]
    },
    {
      "cell_type": "markdown",
      "metadata": {
        "id": "hAaE0sEnLoD9",
        "colab_type": "text"
      },
      "source": [
        " 4.Program to clone or copy a list."
      ]
    },
    {
      "cell_type": "code",
      "metadata": {
        "id": "B02dDOdiLpnd",
        "colab_type": "code",
        "colab": {
          "base_uri": "https://localhost:8080/",
          "height": 71
        },
        "outputId": "246a8c96-108f-49b1-e838-4de820e83a00"
      },
      "source": [
        " list1=[1,2,3,4,5,6]\n",
        "print(\"Original list:\",list1)\n",
        "list2 = list1.copy()\n",
        "print(\"Copied list:\",list2)"
      ],
      "execution_count": 4,
      "outputs": [
        {
          "output_type": "stream",
          "text": [
            "Original list: [1, 2, 3, 4, 5, 6]\n",
            "Copied list: [1, 2, 3, 4, 5, 6]\n"
          ],
          "name": "stdout"
        }
      ]
    },
    {
      "cell_type": "markdown",
      "metadata": {
        "id": "S6__eBEULtn4",
        "colab_type": "text"
      },
      "source": [
        " 5.Program to print a specified list after removing the 0th, 4th and 5th elements."
      ]
    },
    {
      "cell_type": "code",
      "metadata": {
        "id": "N8S_Nta_Lw40",
        "colab_type": "code",
        "colab": {
          "base_uri": "https://localhost:8080/",
          "height": 54
        },
        "outputId": "3657f877-9fc4-474b-ca2b-fa1b3032dd88"
      },
      "source": [
        " list1 = [\"Ramesh\",\"Suresh,\",\"Mahesh\",\"Kamlesh\",\"Mukesh\",\"Bhavesh\"]\n",
        "list1.remove(\"Ramesh\")\n",
        "list1.remove(\"Mukesh\")\n",
        "list1.remove(\"Bhavesh\")\n",
        "print(\"New list:\",list1)"
      ],
      "execution_count": 5,
      "outputs": [
        {
          "output_type": "stream",
          "text": [
            "New list: ['Suresh,', 'Mahesh', 'Kamlesh']\n"
          ],
          "name": "stdout"
        }
      ]
    },
    {
      "cell_type": "markdown",
      "metadata": {
        "id": "JLfzg9-oL1nc",
        "colab_type": "text"
      },
      "source": [
        " \n",
        "6.Program to print the numbers of a specified list after removing even numbers from it."
      ]
    },
    {
      "cell_type": "code",
      "metadata": {
        "id": "iIX78YrBMEY5",
        "colab_type": "code",
        "colab": {
          "base_uri": "https://localhost:8080/",
          "height": 34
        },
        "outputId": "1aa54b04-10a8-4b68-e892-dfba9282eff1"
      },
      "source": [
        " \n",
        " \n",
        " \n",
        "list1=[1,2,3,4,5,6]\n",
        "for item in list1:\n",
        "    if item%2==0:\n",
        "        list1.remove(item)\n",
        "print(list1)"
      ],
      "execution_count": 6,
      "outputs": [
        {
          "output_type": "stream",
          "text": [
            "[1, 3, 5]\n"
          ],
          "name": "stdout"
        }
      ]
    },
    {
      "cell_type": "markdown",
      "metadata": {
        "id": "C_xWltZ1MiME",
        "colab_type": "text"
      },
      "source": [
        " \n",
        " \n",
        "7.Program to shuffle and print a list"
      ]
    },
    {
      "cell_type": "code",
      "metadata": {
        "id": "FnvuNI7eMouA",
        "colab_type": "code",
        "colab": {
          "base_uri": "https://localhost:8080/",
          "height": 34
        },
        "outputId": "f4c4094d-9694-41cd-cc61-e999350f40a1"
      },
      "source": [
        " from random import shuffle\n",
        "list1 = [1,2,3,4,5,6]\n",
        "shuffle(list1)\n",
        "print(\"New list:\",list1)"
      ],
      "execution_count": 9,
      "outputs": [
        {
          "output_type": "stream",
          "text": [
            "New list: [3, 2, 4, 1, 5, 6]\n"
          ],
          "name": "stdout"
        }
      ]
    },
    {
      "cell_type": "markdown",
      "metadata": {
        "id": "Jyldk8xINCES",
        "colab_type": "text"
      },
      "source": [
        " .\n",
        "8.Program to find the difference between two list"
      ]
    },
    {
      "cell_type": "code",
      "metadata": {
        "id": "hy30CHpeNQZa",
        "colab_type": "code",
        "colab": {
          "base_uri": "https://localhost:8080/",
          "height": 54
        },
        "outputId": "87bc6d1d-a895-441f-bc0d-692ff540cdf0"
      },
      "source": [
        " \n",
        "list1 = [1,2,3,4,5]\n",
        "list2 = [2,4]\n",
        "list3 = []\n",
        "for item in list1:\n",
        "    if item not in list2:\n",
        "        list3.append(item)\n",
        "print(list3,\"is the difference between given two lists.\")"
      ],
      "execution_count": 10,
      "outputs": [
        {
          "output_type": "stream",
          "text": [
            "[1, 3, 5] is the difference between given two lists.\n"
          ],
          "name": "stdout"
        }
      ]
    }
  ]
}