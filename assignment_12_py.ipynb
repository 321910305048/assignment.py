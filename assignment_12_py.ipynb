{
  "nbformat": 4,
  "nbformat_minor": 0,
  "metadata": {
    "colab": {
      "name": "assignment_12.py",
      "provenance": [],
      "authorship_tag": "ABX9TyNzrSyhDITjm3OgK4PMawyQ",
      "include_colab_link": true
    },
    "kernelspec": {
      "name": "python3",
      "display_name": "Python 3"
    }
  },
  "cells": [
    {
      "cell_type": "markdown",
      "metadata": {
        "id": "view-in-github",
        "colab_type": "text"
      },
      "source": [
        "<a href=\"https://colab.research.google.com/github/321910305048/assignment.py/blob/master/assignment_12_py.ipynb\" target=\"_parent\"><img src=\"https://colab.research.google.com/assets/colab-badge.svg\" alt=\"Open In Colab\"/></a>"
      ]
    },
    {
      "cell_type": "markdown",
      "metadata": {
        "id": "MptcxpdMVKrF",
        "colab_type": "text"
      },
      "source": [
        "Program to create a tuple."
      ]
    },
    {
      "cell_type": "code",
      "metadata": {
        "id": "fYL1tYbJVNSE",
        "colab_type": "code",
        "colab": {
          "base_uri": "https://localhost:8080/",
          "height": 34
        },
        "outputId": "8f5bcf73-fd5a-4eb3-98bd-b9870172a47a"
      },
      "source": [
        " t1=(1,2,3,4,5)\n",
        "print(t1, type(t1))"
      ],
      "execution_count": 1,
      "outputs": [
        {
          "output_type": "stream",
          "text": [
            "(1, 2, 3, 4, 5) <class 'tuple'>\n"
          ],
          "name": "stdout"
        }
      ]
    },
    {
      "cell_type": "markdown",
      "metadata": {
        "id": "9GHcM1hmVXJb",
        "colab_type": "text"
      },
      "source": [
        "Program to create a tuple with different data types."
      ]
    },
    {
      "cell_type": "code",
      "metadata": {
        "id": "t6ukJY9qVZ9e",
        "colab_type": "code",
        "colab": {
          "base_uri": "https://localhost:8080/",
          "height": 54
        },
        "outputId": "5f56f595-6e38-41d5-d601-5a8f877e082f"
      },
      "source": [
        " t1 = (1,2.5,\"dude\",[\"Hello\",\"Good Day\"])\n",
        "print(t1, type(t1))"
      ],
      "execution_count": 3,
      "outputs": [
        {
          "output_type": "stream",
          "text": [
            "(1, 2.5, 'dude', ['Hello', 'Good Day']) <class 'tuple'>\n"
          ],
          "name": "stdout"
        }
      ]
    },
    {
      "cell_type": "markdown",
      "metadata": {
        "id": "01ipBOtIVm0T",
        "colab_type": "text"
      },
      "source": [
        " Program to convert a tuple into a string."
      ]
    },
    {
      "cell_type": "code",
      "metadata": {
        "id": "yAF4eBoeVrzr",
        "colab_type": "code",
        "colab": {
          "base_uri": "https://localhost:8080/",
          "height": 34
        },
        "outputId": "175a2e3c-d632-45fe-8475-e47c5b9ac817"
      },
      "source": [
        " t1 = (\"G\",\"i\",\"t\",\"a\",\"m\")\n",
        "str = \"\".join(t1)\n",
        "print(\"Tuple converted string:\",str)"
      ],
      "execution_count": 4,
      "outputs": [
        {
          "output_type": "stream",
          "text": [
            "Tuple converted string: Gitam\n"
          ],
          "name": "stdout"
        }
      ]
    },
    {
      "cell_type": "markdown",
      "metadata": {
        "id": "Tl8xD1gPVxko",
        "colab_type": "text"
      },
      "source": [
        " Program to slice a tuple."
      ]
    },
    {
      "cell_type": "code",
      "metadata": {
        "id": "_BfUgwSnV1MA",
        "colab_type": "code",
        "colab": {
          "base_uri": "https://localhost:8080/",
          "height": 34
        },
        "outputId": "f123e070-9ecc-4603-f5ef-dec05b97afa5"
      },
      "source": [
        " t1 = (1,2,3,4,5,6,7,8,9,10)\n",
        "slice=(t1[4:8])\n",
        "print(\"Sliced tuple:\",slice)"
      ],
      "execution_count": 5,
      "outputs": [
        {
          "output_type": "stream",
          "text": [
            "Sliced tuple: (5, 6, 7, 8)\n"
          ],
          "name": "stdout"
        }
      ]
    },
    {
      "cell_type": "markdown",
      "metadata": {
        "id": "8W0hSFGqV5eM",
        "colab_type": "text"
      },
      "source": [
        " Program to find the length of a tuple."
      ]
    },
    {
      "cell_type": "code",
      "metadata": {
        "id": "4AdD0pTKV97E",
        "colab_type": "code",
        "colab": {
          "base_uri": "https://localhost:8080/",
          "height": 34
        },
        "outputId": "6e45cc9b-9f2f-4a97-f0de-86b116208313"
      },
      "source": [
        " t1 = (1,2,3,4,5,6,7,8)\n",
        "print(\"Length of the tuple:\",len(t1))"
      ],
      "execution_count": 6,
      "outputs": [
        {
          "output_type": "stream",
          "text": [
            "Length of the tuple: 8\n"
          ],
          "name": "stdout"
        }
      ]
    },
    {
      "cell_type": "markdown",
      "metadata": {
        "id": "jluaBWneWDHz",
        "colab_type": "text"
      },
      "source": [
        "Program to convert a tuple into a dictionary."
      ]
    },
    {
      "cell_type": "code",
      "metadata": {
        "id": "YJYICZguWHnD",
        "colab_type": "code",
        "colab": {
          "base_uri": "https://localhost:8080/",
          "height": 54
        },
        "outputId": "24e19c86-021b-4f44-a156-747a2670fad2"
      },
      "source": [
        " t1 = ((\"one\",1),(\"two\",2),(\"three\",3),(\"four\",4),(\"five\",5))\n",
        "converted_dict = dict(t1)\n",
        "print(\"Converted Dictionary:\",converted_dict)"
      ],
      "execution_count": 7,
      "outputs": [
        {
          "output_type": "stream",
          "text": [
            "Converted Dictionary: {'one': 1, 'two': 2, 'three': 3, 'four': 4, 'five': 5}\n"
          ],
          "name": "stdout"
        }
      ]
    },
    {
      "cell_type": "markdown",
      "metadata": {
        "id": "eNZXclVQWQvz",
        "colab_type": "text"
      },
      "source": [
        " Program to reverse a tuple."
      ]
    },
    {
      "cell_type": "code",
      "metadata": {
        "id": "U3uYhsERWR7-",
        "colab_type": "code",
        "colab": {
          "base_uri": "https://localhost:8080/",
          "height": 54
        },
        "outputId": "ba0a10c2-d5b0-46ea-8390-f6e09fe247e0"
      },
      "source": [
        " t1 = (1,2,3,4,5,6,7,8)\n",
        "print(\"Reversed Tuple:\",t1[::-1])"
      ],
      "execution_count": 8,
      "outputs": [
        {
          "output_type": "stream",
          "text": [
            "Reversed Tuple: (8, 7, 6, 5, 4, 3, 2, 1)\n"
          ],
          "name": "stdout"
        }
      ]
    },
    {
      "cell_type": "markdown",
      "metadata": {
        "id": "rhFH-7ZgWa84",
        "colab_type": "text"
      },
      "source": [
        " Program to convert a list of tuples into a dictionary."
      ]
    },
    {
      "cell_type": "code",
      "metadata": {
        "id": "LP_uUfQ-Wb9r",
        "colab_type": "code",
        "colab": {
          "base_uri": "https://localhost:8080/",
          "height": 54
        },
        "outputId": "65296324-5ac3-4ac6-97bc-e2cdd6ac4597"
      },
      "source": [
        " \n",
        "mylist = [(\"one\",1),(\"two\",2),(\"three\",3),(\"four\",4)]\n",
        "dict_converted = dict(mylist)\n",
        "print(\"Dictionary converted list:\",dict_converted)"
      ],
      "execution_count": 9,
      "outputs": [
        {
          "output_type": "stream",
          "text": [
            "Dictionary converted list: {'one': 1, 'two': 2, 'three': 3, 'four': 4}\n"
          ],
          "name": "stdout"
        }
      ]
    },
    {
      "cell_type": "markdown",
      "metadata": {
        "id": "cBhFRWY9Wjcr",
        "colab_type": "text"
      },
      "source": [
        " \n",
        " \n",
        "Program to convert a list of tuples into a tuple"
      ]
    },
    {
      "cell_type": "code",
      "metadata": {
        "id": "VnVrIjBiWu0t",
        "colab_type": "code",
        "colab": {
          "base_uri": "https://localhost:8080/",
          "height": 54
        },
        "outputId": "654bf362-49aa-4948-f8b4-fdc91d557a90"
      },
      "source": [
        " mylist = [\"Hello\",\"Hey\",\"Hi\"]\n",
        "print(\"Tuple converted list:\",tuple(mylist))"
      ],
      "execution_count": 10,
      "outputs": [
        {
          "output_type": "stream",
          "text": [
            "Tuple converted list: ('Hello', 'Hey', 'Hi')\n"
          ],
          "name": "stdout"
        }
      ]
    }
  ]
}