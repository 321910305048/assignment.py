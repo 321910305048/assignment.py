{
  "nbformat": 4,
  "nbformat_minor": 0,
  "metadata": {
    "colab": {
      "name": "assignment 9.ipynb",
      "provenance": [],
      "authorship_tag": "ABX9TyNy6k85GfCzvPVDg829Y9A9",
      "include_colab_link": true
    },
    "kernelspec": {
      "name": "python3",
      "display_name": "Python 3"
    }
  },
  "cells": [
    {
      "cell_type": "markdown",
      "metadata": {
        "id": "view-in-github",
        "colab_type": "text"
      },
      "source": [
        "<a href=\"https://colab.research.google.com/github/321910305048/assignment.py/blob/master/assignment_9.ipynb\" target=\"_parent\"><img src=\"https://colab.research.google.com/assets/colab-badge.svg\" alt=\"Open In Colab\"/></a>"
      ]
    },
    {
      "cell_type": "markdown",
      "metadata": {
        "id": "JBJmYOETGjh1",
        "colab_type": "text"
      },
      "source": [
        " Program that prints integers from 1 to 100. But for multiples of 3, print 'Fizz' instead of the number and for the multiples of 5, print 'Buzz'. For numbers which are multiples of both 3 and 5, print 'FizzBuzz'."
      ]
    },
    {
      "cell_type": "code",
      "metadata": {
        "id": "x-DklgNhGkfI",
        "colab_type": "code",
        "colab": {
          "base_uri": "https://localhost:8080/",
          "height": 1000
        },
        "outputId": "3d9b559e-cb32-48c9-d102-fc8515fa2459"
      },
      "source": [
        " \n",
        "for i in range(1,101):\n",
        "    if i%3==0 and i%5==0:\n",
        "        i=\"FizzBuzz\"\n",
        "        print(i)\n",
        "    elif i%5==0:\n",
        "        i=\"Buzz\"\n",
        "        print(i)\n",
        "    elif i%3==0:\n",
        "        i=\"Fizz\"\n",
        "        print(i)\n",
        "    else:\n",
        "        print(i)\n",
        "1"
      ],
      "execution_count": 3,
      "outputs": [
        {
          "output_type": "stream",
          "text": [
            "1\n",
            "2\n",
            "Fizz\n",
            "4\n",
            "Buzz\n",
            "Fizz\n",
            "7\n",
            "8\n",
            "Fizz\n",
            "Buzz\n",
            "11\n",
            "Fizz\n",
            "13\n",
            "14\n",
            "FizzBuzz\n",
            "16\n",
            "17\n",
            "Fizz\n",
            "19\n",
            "Buzz\n",
            "Fizz\n",
            "22\n",
            "23\n",
            "Fizz\n",
            "Buzz\n",
            "26\n",
            "Fizz\n",
            "28\n",
            "29\n",
            "FizzBuzz\n",
            "31\n",
            "32\n",
            "Fizz\n",
            "34\n",
            "Buzz\n",
            "Fizz\n",
            "37\n",
            "38\n",
            "Fizz\n",
            "Buzz\n",
            "41\n",
            "Fizz\n",
            "43\n",
            "44\n",
            "FizzBuzz\n",
            "46\n",
            "47\n",
            "Fizz\n",
            "49\n",
            "Buzz\n",
            "Fizz\n",
            "52\n",
            "53\n",
            "Fizz\n",
            "Buzz\n",
            "56\n",
            "Fizz\n",
            "58\n",
            "59\n",
            "FizzBuzz\n",
            "61\n",
            "62\n",
            "Fizz\n",
            "64\n",
            "Buzz\n",
            "Fizz\n",
            "67\n",
            "68\n",
            "Fizz\n",
            "Buzz\n",
            "71\n",
            "Fizz\n",
            "73\n",
            "74\n",
            "FizzBuzz\n",
            "76\n",
            "77\n",
            "Fizz\n",
            "79\n",
            "Buzz\n",
            "Fizz\n",
            "82\n",
            "83\n",
            "Fizz\n",
            "Buzz\n",
            "86\n",
            "Fizz\n",
            "88\n",
            "89\n",
            "FizzBuzz\n",
            "91\n",
            "92\n",
            "Fizz\n",
            "94\n",
            "Buzz\n",
            "Fizz\n",
            "97\n",
            "98\n",
            "Fizz\n",
            "Buzz\n"
          ],
          "name": "stdout"
        },
        {
          "output_type": "execute_result",
          "data": {
            "text/plain": [
              "1"
            ]
          },
          "metadata": {
            "tags": []
          },
          "execution_count": 3
        }
      ]
    },
    {
      "cell_type": "markdown",
      "metadata": {
        "id": "aGS2BB0GGpLm",
        "colab_type": "text"
      },
      "source": [
        " \n",
        " \n",
        " \n",
        " \n",
        "Program to remove consecutive duplicates from a list."
      ]
    },
    {
      "cell_type": "code",
      "metadata": {
        "id": "8O_HMM6iG1Zv",
        "colab_type": "code",
        "colab": {
          "base_uri": "https://localhost:8080/",
          "height": 68
        },
        "outputId": "d87b1eae-aa44-4363-de26-5218031e664a"
      },
      "source": [
        " \n",
        " \n",
        " \n",
        "mylist=[1,2,2,3,3,4,4,4,5,5,5,5,5,5,5]\n",
        "pre=None\n",
        "newlist=[]\n",
        " \n",
        "for item in mylist:\n",
        "    if item!=pre:\n",
        "        newlist.append(item)\n",
        "        pre=item\n",
        "print(\"The new list:\\n\")\n",
        "print(newlist)"
      ],
      "execution_count": 4,
      "outputs": [
        {
          "output_type": "stream",
          "text": [
            "The new list:\n",
            "\n",
            "[1, 2, 3, 4, 5]\n"
          ],
          "name": "stdout"
        }
      ]
    },
    {
      "cell_type": "markdown",
      "metadata": {
        "id": "X9DdqWq8HB0g",
        "colab_type": "text"
      },
      "source": [
        " Find unique elements in a list"
      ]
    },
    {
      "cell_type": "code",
      "metadata": {
        "id": "r84GQZ1lHJTV",
        "colab_type": "code",
        "colab": {
          "base_uri": "https://localhost:8080/",
          "height": 34
        },
        "outputId": "a67c029d-2284-4bb4-e0a0-1579d08d8c70"
      },
      "source": [
        " \n",
        " \n",
        " \n",
        "mylist=[1,2,2,3,3,4,4,4,5,5,5,5,5,5,5]\n",
        "newlist=set(mylist)\n",
        "print(list(newlist))"
      ],
      "execution_count": 6,
      "outputs": [
        {
          "output_type": "stream",
          "text": [
            "[1, 2, 3, 4, 5]\n"
          ],
          "name": "stdout"
        }
      ]
    },
    {
      "cell_type": "markdown",
      "metadata": {
        "id": "aRI6g1MMHkk6",
        "colab_type": "text"
      },
      "source": [
        " \n",
        " \n",
        "Function that checks if a number is in the given range or not (inclusive of high and low)."
      ]
    },
    {
      "cell_type": "code",
      "metadata": {
        "id": "1JZo4TYaHxD-",
        "colab_type": "code",
        "colab": {
          "base_uri": "https://localhost:8080/",
          "height": 54
        },
        "outputId": "bcf5b8f6-d81c-49e4-c4e1-e05935ce6133"
      },
      "source": [
        " def check_range(num,start,stop):\n",
        "    if num in range(start,stop+1):\n",
        "        print(num,\"is present in the given range.\")\n",
        "    else:\n",
        "        print(num,\"is not present in the given range.\")\n",
        "check_range(56,1,100)"
      ],
      "execution_count": 7,
      "outputs": [
        {
          "output_type": "stream",
          "text": [
            "56 is present in the given range.\n"
          ],
          "name": "stdout"
        }
      ]
    },
    {
      "cell_type": "markdown",
      "metadata": {
        "id": "QlZTFy3KH4oQ",
        "colab_type": "text"
      },
      "source": [
        "Function that accepts a string and calculates the number of uppercase and lowercase characters."
      ]
    },
    {
      "cell_type": "code",
      "metadata": {
        "id": "IlEh5L3tIDCo",
        "colab_type": "code",
        "colab": {
          "base_uri": "https://localhost:8080/",
          "height": 71
        },
        "outputId": "2a6fcf2e-0cba-4b6a-b91f-e2233bac2045"
      },
      "source": [
        " def char_case(string):\n",
        "    lowercase,uppercase,special=0,0,0\n",
        "    for char in string:\n",
        "        if char.isupper():\n",
        "            uppercase+=1\n",
        "        elif char.islower():\n",
        "            lowercase+=1\n",
        "    print(\"Number of uppercase characters=\",uppercase)\n",
        "    print(\"Number of lowercase characters=\",lowercase)\n",
        "char_case(\"Finally Promoted\")"
      ],
      "execution_count": 8,
      "outputs": [
        {
          "output_type": "stream",
          "text": [
            "Number of uppercase characters= 2\n",
            "Number of lowercase characters= 13\n"
          ],
          "name": "stdout"
        }
      ]
    }
  ]
}
