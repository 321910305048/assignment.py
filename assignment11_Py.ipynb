{
  "nbformat": 4,
  "nbformat_minor": 0,
  "metadata": {
    "colab": {
      "name": "assignment11. Py",
      "provenance": [],
      "authorship_tag": "ABX9TyPzUnn91pKuHQiGbJL/iMBl",
      "include_colab_link": true
    },
    "kernelspec": {
      "name": "python3",
      "display_name": "Python 3"
    }
  },
  "cells": [
    {
      "cell_type": "markdown",
      "metadata": {
        "id": "view-in-github",
        "colab_type": "text"
      },
      "source": [
        "<a href=\"https://colab.research.google.com/github/321910305048/assignment.py/blob/master/assignment11_Py.ipynb\" target=\"_parent\"><img src=\"https://colab.research.google.com/assets/colab-badge.svg\" alt=\"Open In Colab\"/></a>"
      ]
    },
    {
      "cell_type": "markdown",
      "metadata": {
        "id": "15xKYLDPQpjb",
        "colab_type": "text"
      },
      "source": [
        " Program to read an entire file."
      ]
    },
    {
      "cell_type": "code",
      "metadata": {
        "id": "1vY69F4SReY0",
        "colab_type": "code",
        "colab": {}
      },
      "source": [
        " f=open(\"assignment11.txt\")\n",
        "content=f.read()\n",
        "print(\"Content present in the file assignment.txt is\\n\",content)"
      ],
      "execution_count": null,
      "outputs": []
    },
    {
      "cell_type": "markdown",
      "metadata": {
        "id": "F_9D6ZJIRqx0",
        "colab_type": "text"
      },
      "source": [
        " Program to read the first n lines of a file."
      ]
    },
    {
      "cell_type": "code",
      "metadata": {
        "id": "73zA3nvTRufm",
        "colab_type": "code",
        "colab": {}
      },
      "source": [
        " f=open(\"assignment.txt\",\"r\")\n",
        "n=int(input(\"Enter the number of lines you want to read: \"))\n",
        "print(\"The content present in the first\",n,\"lines present in the file is\\n:\")\n",
        "for i in range(n):\n",
        "    line=f.readline()\n",
        "    print(line)"
      ],
      "execution_count": null,
      "outputs": []
    },
    {
      "cell_type": "markdown",
      "metadata": {
        "id": "JrQK_mOuRzGQ",
        "colab_type": "text"
      },
      "source": [
        " Program to append text to a file and display it."
      ]
    },
    {
      "cell_type": "code",
      "metadata": {
        "id": "nvw0HvsSR4xh",
        "colab_type": "code",
        "colab": {}
      },
      "source": [
        " f=open(\"assignment.txt\",\"a\")\n",
        "content=\"\"\"\\nI can even say goodbye in four languages.\n",
        "Adios! (Spanish)\n",
        "Addio! (Italian)\n",
        "Tschus! (German)\n",
        "Au Revoir! (French)\"\"\"\n",
        "f.write(content)\n",
        "f.close()"
      ],
      "execution_count": null,
      "outputs": []
    },
    {
      "cell_type": "markdown",
      "metadata": {
        "id": "pztUWjBoR8ME",
        "colab_type": "text"
      },
      "source": [
        " Program to read last n lines of a file."
      ]
    },
    {
      "cell_type": "code",
      "metadata": {
        "id": "Ssmg1Yv4R_mo",
        "colab_type": "code",
        "colab": {}
      },
      "source": [
        " f=open(\"assignment.txt\",\"r\")\n",
        "n=int(input(\"Enter the value of n to print the last lines: \"))\n",
        "last=f.readlines() [-n:]\n",
        "for line in last:\n",
        "    print(line, end ='')"
      ],
      "execution_count": null,
      "outputs": []
    },
    {
      "cell_type": "markdown",
      "metadata": {
        "id": "65SNFNujSE_5",
        "colab_type": "text"
      },
      "source": [
        " Program to read a file line by line and store it in a variable."
      ]
    },
    {
      "cell_type": "code",
      "metadata": {
        "id": "X2yRE0C8SGeh",
        "colab_type": "code",
        "colab": {}
      },
      "source": [
        " def read_file(name):\n",
        "        with open (name, \"r\") as myfile:\n",
        "                content=myfile.readlines()\n",
        "                print(content)\n",
        "read_file('assignment.txt')"
      ],
      "execution_count": null,
      "outputs": []
    },
    {
      "cell_type": "markdown",
      "metadata": {
        "id": "gwM1D1oHSPVF",
        "colab_type": "text"
      },
      "source": [
        "Program to read a file line by line and store it in a list."
      ]
    },
    {
      "cell_type": "code",
      "metadata": {
        "id": "VdXNaymzSVcZ",
        "colab_type": "code",
        "colab": {}
      },
      "source": [
        " def read_file(name): content = [] with open(name) as f:\n",
        "for lines in f: content=list(f.readlines()) print(content)\n",
        " \n",
        "read_file('assignment.txt')"
      ],
      "execution_count": null,
      "outputs": []
    },
    {
      "cell_type": "markdown",
      "metadata": {
        "id": "x_LiDFslSrvi",
        "colab_type": "text"
      },
      "source": [
        " Program to read a file line by line and store it in an array"
      ]
    },
    {
      "cell_type": "code",
      "metadata": {
        "id": "Rw6Xl818SupR",
        "colab_type": "code",
        "colab": {}
      },
      "source": [
        " def read(name):\n",
        "        content = []\n",
        "        with open(name) as f:  \n",
        "                for line in f:\n",
        "                        content.append(line)\n",
        "                print(content)\n",
        " \n",
        "read('assignment.txt')"
      ],
      "execution_count": null,
      "outputs": []
    },
    {
      "cell_type": "markdown",
      "metadata": {
        "id": "tdzx_yoZSxoy",
        "colab_type": "text"
      },
      "source": [
        " Program to count the number of lines in a file"
      ]
    },
    {
      "cell_type": "code",
      "metadata": {
        "id": "f8E9o0SLTJKd",
        "colab_type": "code",
        "colab": {}
      },
      "source": [
        " f=open(\"assignment.txt\",\"r\")\n",
        "count=0\n",
        "content=f.read()\n",
        "file_list=content.split(\"\\n\")\n",
        " \n",
        "for line in file_list:\n",
        "    if i:\n",
        "        count+=1\n",
        "print(\"Number of lines in the given list:\",count)"
      ],
      "execution_count": null,
      "outputs": []
    },
    {
      "cell_type": "markdown",
      "metadata": {
        "id": "Mz48KxvSTK1v",
        "colab_type": "text"
      },
      "source": [
        " \n",
        " \n",
        "9.Program to get the full size of a plain file."
      ]
    },
    {
      "cell_type": "code",
      "metadata": {
        "id": "lKliaJrhTZer",
        "colab_type": "code",
        "colab": {}
      },
      "source": [
        " def size(f):\n",
        "        import os\n",
        "        statinfo = os.stat(f)\n",
        "        return statinfo.st_size\n",
        "size_file=size(\"assignment.txt\")\n",
        "print(\"File size in bytes of a plain file:\",size_file)"
      ],
      "execution_count": null,
      "outputs": []
    },
    {
      "cell_type": "markdown",
      "metadata": {
        "id": "-ytgNcqoTcvp",
        "colab_type": "text"
      },
      "source": [
        " \n",
        "10.Program to copy the content of one file to another."
      ]
    },
    {
      "cell_type": "code",
      "metadata": {
        "id": "ggnHUrG6T1X6",
        "colab_type": "code",
        "colab": {}
      },
      "source": [
        " with open(\"assignment.txt\") as f:\n",
        "    with open(\"out.txt\", \"w\") as f1:\n",
        "        for line in f:\n",
        "            f1.write(line)"
      ],
      "execution_count": null,
      "outputs": []
    }
  ]
}