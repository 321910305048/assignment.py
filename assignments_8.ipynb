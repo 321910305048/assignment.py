{
  "nbformat": 4,
  "nbformat_minor": 0,
  "metadata": {
    "colab": {
      "name": "m-2 assignments 2",
      "provenance": [],
      "authorship_tag": "ABX9TyNPtRd+SWFOVRd26VrPcUiq",
      "include_colab_link": true
    },
    "kernelspec": {
      "name": "python3",
      "display_name": "Python 3"
    }
  },
  "cells": [
    {
      "cell_type": "markdown",
      "metadata": {
        "id": "view-in-github",
        "colab_type": "text"
      },
      "source": [
        "<a href=\"https://colab.research.google.com/github/321910305048/assignment.py/blob/master/assignments4.ipynb\" target=\"_parent\"><img src=\"https://colab.research.google.com/assets/colab-badge.svg\" alt=\"Open In Colab\"/></a>"
      ]
    },
    {
      "cell_type": "markdown",
      "metadata": {
        "id": "3MWnchr9t-No",
        "colab_type": "text"
      },
      "source": [
        " Python function to find the Max of three numbers."
      ]
    },
    {
      "cell_type": "code",
      "metadata": {
        "id": "V5H3IKXst_v8",
        "colab_type": "code",
        "colab": {
          "base_uri": "https://localhost:8080/",
          "height": 85
        },
        "outputId": "82e413a8-c292-4df2-c19a-cbc45535cb7c"
      },
      "source": [
        " x=int(input('Enter First Number'))\n",
        "y=int(input('Enter Second Number'))\n",
        "z=int(input('Enter Third Number'))\n",
        "if x>y:\n",
        "  if x>z:\n",
        "    print(\"X is Greatest\")\n",
        "  else:\n",
        "    print(\"Z is Greatest\")\n",
        "elif y>x:\n",
        "  if y>z:\n",
        "    print(\"Y is Greatest\")\n",
        "  else:\n",
        "    print(\"Z is Greatest\")"
      ],
      "execution_count": null,
      "outputs": [
        {
          "output_type": "stream",
          "text": [
            "Enter First Number22\n",
            "Enter Second Number12\n",
            "Enter Third Number10\n",
            "X is Greatest\n"
          ],
          "name": "stdout"
        }
      ]
    },
    {
      "cell_type": "markdown",
      "metadata": {
        "id": "JuyRiskXuXo7",
        "colab_type": "text"
      },
      "source": [
        " Write a Python program to reverse a string."
      ]
    },
    {
      "cell_type": "code",
      "metadata": {
        "id": "q2bGGGGCucXQ",
        "colab_type": "code",
        "colab": {
          "base_uri": "https://localhost:8080/",
          "height": 71
        },
        "outputId": "89ee1ce2-6919-4d99-d65f-59fe5da67fa9"
      },
      "source": [
        " \n",
        "def reverse(s): \n",
        "  str = \"\" \n",
        "  for i in s: \n",
        "    str = i + str\n",
        "  return str\n",
        "s = \"dad\"\n",
        "  \n",
        "print (\"The original string  is : \",end=\"\") \n",
        "print (s) \n",
        "  \n",
        "print (\"The reversed string(using loops) is : \",end=\"\") \n",
        "print (reverse(s))"
      ],
      "execution_count": null,
      "outputs": [
        {
          "output_type": "stream",
          "text": [
            "The original string  is : dad\n",
            "The reversed string(using loops) is : dad\n"
          ],
          "name": "stdout"
        }
      ]
    },
    {
      "cell_type": "markdown",
      "metadata": {
        "id": "0NSBCS5NvFn7",
        "colab_type": "text"
      },
      "source": [
        " Write a Python function to check whether the number is prime or not"
      ]
    },
    {
      "cell_type": "code",
      "metadata": {
        "id": "VtiIAlD-vHlM",
        "colab_type": "code",
        "colab": {
          "base_uri": "https://localhost:8080/",
          "height": 51
        },
        "outputId": "f5fe4967-faa4-44f1-b909-a0cd5fac9d06"
      },
      "source": [
        " num = int(input(\"Enter a number: \"))  \n",
        "  \n",
        "if num > 1:  \n",
        "   for i in range(2,num):  \n",
        "       if (num % i) == 0:  \n",
        "           print(num,\"is not a prime number\")  \n",
        "           print(i,\"times\",num//i,\"is\",num)  \n",
        "           break  \n",
        "   else:  \n",
        "       print(num,\"is a prime number\")  \n",
        "         \n",
        "else:  \n",
        "   print(num,\"is not a prime number\")"
      ],
      "execution_count": null,
      "outputs": [
        {
          "output_type": "stream",
          "text": [
            "Enter a number: 17\n",
            "17 is a prime number\n"
          ],
          "name": "stdout"
        }
      ]
    },
    {
      "cell_type": "markdown",
      "metadata": {
        "id": "_vxajtx8yZIY",
        "colab_type": "text"
      },
      "source": [
        "\n",
        "Find the sum of squares of first n natural numbers."
      ]
    },
    {
      "cell_type": "code",
      "metadata": {
        "id": "8zMFpqoGz2ou",
        "colab_type": "code",
        "colab": {}
      },
      "source": [
        " \n",
        "def squaresum(n) : \n",
        "  sm = 0\n",
        "  for i in range(1, n+1) : \n",
        "   sm=sm+(i * i) \n",
        "  return sm"
      ],
      "execution_count": null,
      "outputs": []
    },
    {
      "cell_type": "code",
      "metadata": {
        "id": "U-ycVLc60FzZ",
        "colab_type": "code",
        "colab": {
          "base_uri": "https://localhost:8080/",
          "height": 51
        },
        "outputId": "7646c092-ae69-4d54-cdb7-cb9398e06c7c"
      },
      "source": [
        " n=int(input(\"Enter the number\"))\n",
        "print(\"The Square is\",squaresum(n))"
      ],
      "execution_count": null,
      "outputs": [
        {
          "output_type": "stream",
          "text": [
            "Enter the number4\n",
            "The Square is 30\n"
          ],
          "name": "stdout"
        }
      ]
    }
  ]
}
