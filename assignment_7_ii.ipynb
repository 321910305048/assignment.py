{
  "nbformat": 4,
  "nbformat_minor": 0,
  "metadata": {
    "colab": {
      "name": "assignment 7 ii.ipynb",
      "provenance": [],
      "authorship_tag": "ABX9TyOQSYXUMv1CZf06AVNXD3z3",
      "include_colab_link": true
    },
    "kernelspec": {
      "name": "python3",
      "display_name": "Python 3"
    }
  },
  "cells": [
    {
      "cell_type": "markdown",
      "metadata": {
        "id": "view-in-github",
        "colab_type": "text"
      },
      "source": [
        "<a href=\"https://colab.research.google.com/github/321910305048/assignment.py/blob/master/assignment_7_ii.ipynb\" target=\"_parent\"><img src=\"https://colab.research.google.com/assets/colab-badge.svg\" alt=\"Open In Colab\"/></a>"
      ]
    },
    {
      "cell_type": "markdown",
      "metadata": {
        "id": "drrpUEj54ytR",
        "colab_type": "text"
      },
      "source": [
        " Program to calculate the length of a string."
      ]
    },
    {
      "cell_type": "code",
      "metadata": {
        "id": "_PL-6ecp44Ad",
        "colab_type": "code",
        "colab": {
          "base_uri": "https://localhost:8080/",
          "height": 51
        },
        "outputId": "08e8cdd4-b24e-448b-bcfe-8aa65dd2b529"
      },
      "source": [
        " string=input(\"Enter a string: \")\n",
        "len=len(string)\n",
        "print(\"The length of\",string,\"is\",len)"
      ],
      "execution_count": 4,
      "outputs": [
        {
          "output_type": "stream",
          "text": [
            "Enter a string: Bhuvan\n",
            "The length of Bhuvan is 6\n"
          ],
          "name": "stdout"
        }
      ]
    },
    {
      "cell_type": "markdown",
      "metadata": {
        "id": "MvqtJdGN5DGy",
        "colab_type": "text"
      },
      "source": [
        " Program to find the character frequency in a string."
      ]
    },
    {
      "cell_type": "code",
      "metadata": {
        "id": "PtekMlX35EiL",
        "colab_type": "code",
        "colab": {
          "base_uri": "https://localhost:8080/",
          "height": 71
        },
        "outputId": "0f5fddde-abc8-486d-fb0d-08126e93e249"
      },
      "source": [
        " string=input(\"Enter a string: \")\n",
        "freq={}\n",
        "for i in string:\n",
        "    if i in freq:\n",
        "        freq[i]+=1\n",
        "    else:\n",
        "        freq[i]=1\n",
        "print(\"Character frequency\",string,\"is:\",freq)"
      ],
      "execution_count": 5,
      "outputs": [
        {
          "output_type": "stream",
          "text": [
            "Enter a string: Pubg\n",
            "Character frequency Pubg is: {'P': 1, 'u': 1, 'b': 1, 'g': 1}\n"
          ],
          "name": "stdout"
        }
      ]
    },
    {
      "cell_type": "markdown",
      "metadata": {
        "id": "zhlUdyRu5ayU",
        "colab_type": "text"
      },
      "source": [
        " \n",
        "Program to get a single string from two given strings, separated by a space and swap the first character of each string."
      ]
    },
    {
      "cell_type": "code",
      "metadata": {
        "id": "dsowieGN5h1W",
        "colab_type": "code",
        "colab": {
          "base_uri": "https://localhost:8080/",
          "height": 85
        },
        "outputId": "919d570c-bbf6-44fa-8c96-552fdfb39200"
      },
      "source": [
        " \n",
        "str1= input(\"Enter the first string: \")\n",
        "str2= input(\"Enter the secnd string: \")\n",
        "str1_swap= str2[:1]+str1[1:]\n",
        "str2_swap= str1[:1]+str2[1:]\n",
        "print(\"First String on Swap\",str1_swap)\n",
        "print(\"Second String on Swap\",str2_swap)"
      ],
      "execution_count": 8,
      "outputs": [
        {
          "output_type": "stream",
          "text": [
            "Enter the first string: Hai\n",
            "Enter the secnd string: Bye\n",
            "First String on Swap Bai\n",
            "Second String on Swap Hye\n"
          ],
          "name": "stdout"
        }
      ]
    },
    {
      "cell_type": "markdown",
      "metadata": {
        "id": "6Z1AVslI59f_",
        "colab_type": "text"
      },
      "source": [
        " Take input from the user and displays that input back in upper and lower cases"
      ]
    },
    {
      "cell_type": "code",
      "metadata": {
        "id": "Lrcd5RxJ6BF2",
        "colab_type": "code",
        "colab": {
          "base_uri": "https://localhost:8080/",
          "height": 88
        },
        "outputId": "05d47dc6-444c-453b-e403-445bfa6a6b5f"
      },
      "source": [
        " \n",
        "string= input(\"Enter a string: \")\n",
        "upper=string.upper()\n",
        "lower=string.lower()\n",
        "print(\"The String\",string,\"in upper case is\",upper)\n",
        "print(\"The String\",string,\"in lower case is\",lower)"
      ],
      "execution_count": 10,
      "outputs": [
        {
          "output_type": "stream",
          "text": [
            "Enter a string: Books\n",
            "The String Books in upper case is BOOKS\n",
            "The String Books in lower case is books\n"
          ],
          "name": "stdout"
        }
      ]
    },
    {
      "cell_type": "markdown",
      "metadata": {
        "id": "PaMEnX8T6O0U",
        "colab_type": "text"
      },
      "source": [
        " Program to remove a newline."
      ]
    },
    {
      "cell_type": "code",
      "metadata": {
        "id": "PQc7tuS66n8K",
        "colab_type": "code",
        "colab": {
          "base_uri": "https://localhost:8080/",
          "height": 35
        },
        "outputId": "a2e5d2da-fd40-4b58-a8d7-fa1fffe6caec"
      },
      "source": [
        " \n",
        "string= \"prabhs\\n\"\n",
        "string.rstrip('\\n')"
      ],
      "execution_count": 19,
      "outputs": [
        {
          "output_type": "execute_result",
          "data": {
            "application/vnd.google.colaboratory.intrinsic": {
              "type": "string"
            },
            "text/plain": [
              "'prabhs'"
            ]
          },
          "metadata": {
            "tags": []
          },
          "execution_count": 19
        }
      ]
    },
    {
      "cell_type": "markdown",
      "metadata": {
        "id": "bWRoW_dP7R4K",
        "colab_type": "text"
      },
      "source": [
        " \n",
        "Program to count occurrences of a substring in a string."
      ]
    },
    {
      "cell_type": "code",
      "metadata": {
        "id": "3AtQWNE67dGc",
        "colab_type": "code",
        "colab": {
          "base_uri": "https://localhost:8080/",
          "height": 68
        },
        "outputId": "70ae506f-7de1-4db6-a363-08fabcf362d6"
      },
      "source": [
        " \n",
        " \n",
        "string= input(\"Enter a string: \")\n",
        "substr= input(\"Enter a substring present: \")\n",
        "string.count(substr)"
      ],
      "execution_count": 21,
      "outputs": [
        {
          "output_type": "stream",
          "text": [
            "Enter a string: Mangoes\n",
            "Enter a substring present: go\n"
          ],
          "name": "stdout"
        },
        {
          "output_type": "execute_result",
          "data": {
            "text/plain": [
              "1"
            ]
          },
          "metadata": {
            "tags": []
          },
          "execution_count": 21
        }
      ]
    },
    {
      "cell_type": "markdown",
      "metadata": {
        "id": "h3U8b7Vh7-Fp",
        "colab_type": "text"
      },
      "source": [
        " \n",
        "Program to convert a string in a list"
      ]
    },
    {
      "cell_type": "code",
      "metadata": {
        "id": "SsS92RNn8NHi",
        "colab_type": "code",
        "colab": {
          "base_uri": "https://localhost:8080/",
          "height": 71
        },
        "outputId": "5434b565-ca6d-459b-e410-04e9800b1d38"
      },
      "source": [
        " \n",
        " \n",
        " \n",
        "string=input(\"Enter a string: \")\n",
        "list=list(string)\n",
        "print(\"Converted list is\",list)"
      ],
      "execution_count": 22,
      "outputs": [
        {
          "output_type": "stream",
          "text": [
            "Enter a string: bhuvan\n",
            "Converted list is ['b', 'h', 'u', 'v', 'a', 'n']\n"
          ],
          "name": "stdout"
        }
      ]
    },
    {
      "cell_type": "markdown",
      "metadata": {
        "id": "7a7_qvHw8c2-",
        "colab_type": "text"
      },
      "source": [
        " Program to delete a character"
      ]
    },
    {
      "cell_type": "code",
      "metadata": {
        "id": "F_df9rYQ8rM0",
        "colab_type": "code",
        "colab": {
          "base_uri": "https://localhost:8080/",
          "height": 85
        },
        "outputId": "95d50e04-878a-4ad6-f87b-7b169d71ec7d"
      },
      "source": [
        " \n",
        " \n",
        "str=input(\"Enter a string: \")\n",
        "char=input(\"Enter the character to delete: \")\n",
        "print(\"The resultant string is\",str.replace(char,\"\"))\n",
        "print(\"The deleted char is\",char,\".\")"
      ],
      "execution_count": 25,
      "outputs": [
        {
          "output_type": "stream",
          "text": [
            "Enter a string: Striong\n",
            "Enter the character to delete: i\n",
            "The resultant string is Strong\n",
            "The deleted char is i .\n"
          ],
          "name": "stdout"
        }
      ]
    },
    {
      "cell_type": "markdown",
      "metadata": {
        "id": "fNLiVsXI9TrB",
        "colab_type": "text"
      },
      "source": [
        " \n",
        "Program to print every character of a string entered by user in a new line using loop."
      ]
    },
    {
      "cell_type": "code",
      "metadata": {
        "id": "r3nv6BHp9kAn",
        "colab_type": "code",
        "colab": {
          "base_uri": "https://localhost:8080/",
          "height": 173
        },
        "outputId": "437347f2-55c4-4f09-ed53-eb0062276510"
      },
      "source": [
        " \n",
        "str=input(\"Enter a string: \")\n",
        "print(\"Characters in the string\",str,\"are:\")\n",
        "for i in str:\n",
        "    print(i)"
      ],
      "execution_count": 26,
      "outputs": [
        {
          "output_type": "stream",
          "text": [
            "Enter a string: Bhuvan\n",
            "Characters in the string Bhuvan are:\n",
            "B\n",
            "h\n",
            "u\n",
            "v\n",
            "a\n",
            "n\n"
          ],
          "name": "stdout"
        }
      ]
    },
    {
      "cell_type": "markdown",
      "metadata": {
        "id": "9otvrrCp94Nb",
        "colab_type": "text"
      },
      "source": [
        "Program to find the length of the string \"bhuvan\" without using len function"
      ]
    },
    {
      "cell_type": "code",
      "metadata": {
        "id": "uor0mZVxAKg1",
        "colab_type": "code",
        "colab": {
          "base_uri": "https://localhost:8080/",
          "height": 54
        },
        "outputId": "f614787e-19fc-4ca0-c427-7cb55af4c7ed"
      },
      "source": [
        "str= \"bhuvan\"\n",
        "len=0\n",
        "for i in string:\n",
        "    len+=1\n",
        "print(\"The length of the string\",str,\"is:\",len)"
      ],
      "execution_count": 47,
      "outputs": [
        {
          "output_type": "stream",
          "text": [
            "The length of the string bhuvan is: 6\n"
          ],
          "name": "stdout"
        }
      ]
    }
  ]
}